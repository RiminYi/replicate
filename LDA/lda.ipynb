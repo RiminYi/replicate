{
 "cells": [
  {
   "cell_type": "markdown",
   "id": "1235cf9a",
   "metadata": {},
   "source": [
    "## LDA模型\n",
    "\n",
    "作者：伊日敏（武汉大学）"
   ]
  },
  {
   "cell_type": "markdown",
   "id": "814fbc89",
   "metadata": {},
   "source": [
    "### LDA原理\n",
    "\n",
    "我们可以将理解LDA的过程分为三个部分：核心思想、生成过程（思想实验）和推断过程（现实任务）。\n",
    "\n",
    "---"
   ]
  },
  {
   "cell_type": "markdown",
   "id": "44465b69",
   "metadata": {},
   "source": [
    "##### 1. 核心思想：两个基本假设\n",
    "LDA模型建立在两个非常直观且强大的假设之上，这是理解一切的基石：\n",
    "\n",
    "1. **文档是主题的混合体 (Documents are mixtures of topics)**\n",
    "\n",
    "    一篇文档的内容不是单一的，而是由多个潜在的主题以不同的比例构成的。例如，一篇关于苹果公司发布AI芯片的新闻，它可能包含了 70%的“科技”主题、20%的“商业”主题 和 10%的“国际关系”主题。\n",
    "\n",
    "2. **主题是词语的概率分布 (Topics are distributions of words)**\n",
    "\n",
    "    每个主题都由一系列词语来定义，其中一些词语出现的概率更高，更能代表该主题。\n",
    "\n",
    "        例如：\n",
    "            “科技”主题：由“人工智能”、“算法”、“数据”、“芯片”等词高概率构成。\n",
    "            “商业”主题：由“市场”、“股票”、“财报”、“投资”等词高概率构成。\n",
    "\n",
    "LDA的目标，就是从一堆未标记的文档中，自动地、同时地学习出这两个核心部分：每个文档的“主题配比”和每个主题的“词语构成”。\n",
    "\n",
    "---"
   ]
  },
  {
   "cell_type": "markdown",
   "id": "9f845112",
   "metadata": {},
   "source": [
    "##### 2. 生成过程：一个思想实验\n",
    "为了实现上述目标，LDA首先做了一个思想实验：如果我是神，拥有了主题和词语的全部信息，我该如何“创造”一篇文档？ 这个虚构的创造过程被称为“生成过程”(Generative Process)。\n",
    "\n",
    "过程如下：\n",
    "\n",
    "1. 准备工作：\n",
    "    假设宇宙中已经存在 K 个主题（例如“科技”、“商业”、“体育”...）。\n",
    "    每个主题都对应一个装满了无数词语的“魔法袋”，袋中每个词语的比例是固定的（这就是“主题-词语”分布 ϕ）。\n",
    "\n",
    "2. 开始写一篇新文档：\n",
    "\n",
    "    **第1步：确定文档的“基因”。**\n",
    "\n",
    "    为这篇新文档随机调配一个“主题配比”（例如，70%科技, 20%商业, 10%体育）。这个独一无二的配比就是这篇文档的“文档-主题”分布θ。在数学上，这个“调配”的动作由狄利克雷分布 (Dirichlet Distribution)完成，它非常擅长生成这类总和为1的比例。\n",
    "\n",
    "    **第2步：逐词写入文档。**\n",
    "    \n",
    "    要写文档里的第一个词时：\n",
    "\n",
    "    a. 根据文档的“主题配比”（70/20/10），随机选择一个主题。比如这次抽中了“科技”。\n",
    "\n",
    "    b. 然后，从“科技”主题的“魔法袋”中，根据词语的概率分布，随机抽一个词出来，比如抽中了“芯片”。把“芯片”写进文档。\n",
    "\n",
    "    要写第二个词时，重复(a)和(b)：\n",
    "    \n",
    "    a. 再次根据70/20/10的配比，随机选一个主题。这次可能抽中了“商业”。\n",
    "    \n",
    "    b. 然后，从“商业”主题的魔法袋中抽一个词，比如“市场”。把“市场”写进文档。\n",
    "\n",
    "    **第3步：不断重复。**\n",
    "    \n",
    "    不断重复第2步，直到文档达到预定的长度。最终，这篇文档里就会充满像“芯片”、“市场”、“算法”、“投资”等词语。\n",
    "\n",
    "请注意：在这个过程中，**词语的顺序是无关紧要的**，只有词语本身和它的数量重要。这就是**LDA基于词袋模型 (Bag-of-Words)** 假设的原因。\n",
    "\n",
    "---\n"
   ]
  },
  {
   "cell_type": "markdown",
   "id": "f7687092",
   "metadata": {},
   "source": [
    "##### 3. 推断过程：现实中的逆向工程\n",
    "思想实验结束。回到现实，我们是分析师，不是神。我们手上没有现成的“主题魔法袋”，也不知道每篇文档的“主题配比”。我们拥有的，仅仅是最终生成的、一篇篇杂乱无章的文档。\n",
    "\n",
    "LDA算法的真正任务，就是扮演一个“侦探”，进行逆向工程（Inference）。\n",
    "\n",
    "    输入：大量的文档（语料库）。\n",
    "\n",
    "    目标：反向推断出隐藏在背后的两个关键信息：\n",
    "\n",
    "        全局的“主题-词语”分布 (ϕ)：推断出总共有哪些主题，以及每个主题分别由哪些词语以何种概率构成。\n",
    "\n",
    "        每个文档的“文档-主题”分布 (θ)：推断出每一篇文档具体是由这些主题以怎样的比例混合而成的。\n",
    "\n",
    "**“侦探”是如何工作的？**\n",
    "\n",
    "它通过一个迭代优化的过程来寻找答案。以**吉布斯采样 (Gibbs Sampling)**为例，你可以想象它这样做：\n",
    "\n",
    "1. 初始猜测：它首先随机地给语料库里每一个词都指派一个主题（这个初始状态是完全混乱的）。\n",
    "\n",
    "2. 迭代修正：然后，它开始逐个地检查每一个词，并根据一个聪明的规则来更新这个词的主题归属。这个规则是：\n",
    "\n",
    "    一个词的新主题，应该倾向于是 (1) 在这篇文档里已经很常见的主题，并且 (2) 在全局上很喜欢这个词的主题。\n",
    "\n",
    "3. 趋于稳定：算法不断地、成千上万次地重复第2步。神奇的是，经过足够多的迭代，整个系统会从混乱无序的状态，逐渐收敛到一个稳定、有意义的状态。在这个稳定状态下，词语的主题分配不再发生大的变化。\n",
    "\n",
    "这个最终的稳定状态，就是LDA算法给出的答案——它成功地推断出了最有可能产生我们所见文档的那些潜在主题和它们的分布。\n",
    "\n",
    "---"
   ]
  },
  {
   "cell_type": "markdown",
   "id": "eba193c3",
   "metadata": {},
   "source": [
    "##### 总结\n",
    "\n",
    "所以，LDA的原理可以概括为：\n",
    "\n",
    "    它基于“文档是主题混合，主题是词语分布”的假设。\n",
    "\n",
    "    它通过一个“生成文档”的思想实验，构建了一个概率模型。\n",
    "\n",
    "    它的核心算法是一个“逆向工程”，通过迭代计算，从已有的文本中反推出最可能的潜在主题结构。\n",
    "\n",
    "“Latent Dirichlet Allocation”这个名字也由此而来：Latent（潜在的，因为主题是隐藏的），Dirichlet（狄利克雷，因为它是生成“混合比例”的数学工具），Allocation（分配，因为过程涉及到为词语分配主题）。"
   ]
  },
  {
   "cell_type": "markdown",
   "id": "753c6d3f",
   "metadata": {},
   "source": [
    "### LDA评价与调参"
   ]
  },
  {
   "cell_type": "markdown",
   "id": "d816d034",
   "metadata": {},
   "source": [
    "除了基础的实现，一个完整的LDA项目通常还包含以下几个至关重要的内容：\n",
    "\n",
    "1. **模型评估 (Model Evaluation)**：我的模型效果好吗？\n",
    "\n",
    "2. **超参数调优 (Hyperparameter Tuning)**：如何找到最佳的模型配置？\n",
    "\n",
    "3. **结果可视化 (Visualization)**：如何直观地展示和探索主题？\n",
    "\n",
    "---"
   ]
  },
  {
   "cell_type": "markdown",
   "id": "8377fad3",
   "metadata": {},
   "source": [
    "#### 模型评估：困惑度 vs. 主题一致性\n",
    "我们不能只凭感觉来判断模型的好坏，需要量化的指标。\n",
    "\n",
    "a) 困惑度 (Perplexity)\n",
    "\n",
    "    直观理解：\n",
    "\n",
    "        困惑度衡量的是模型对于未见过的新数据的“困惑”程度或者说“惊讶”程度。一个好的模型，在学习了大量文档后，应该能很好地预测新文档中会出现哪些词。\n",
    "    \n",
    "        如果模型对新文档感到“不困惑”（即预测得很好），那么它的困惑度就低。\n",
    "    \n",
    "        所以，困惑度是越低越好。\n",
    "\n",
    "    数学本质：\n",
    "    \n",
    "        它在数学上是测试集对数似然（log-likelihood）的几何平均值的倒数。简单来说，它与模型预测每个词的概率相关。如果模型赋予测试集中实际出现的词语的概率越高，那么困惑度就越低。\n",
    "\n",
    "一个重要的“但是”：\n",
    "在主题模型领域，研究者发现，困惑度最低的模型，其主题对人类来说往往并不好理解。有时，一个困惑度很低的模型产生的主题可能是由一些语法上相关但语义上不相关的词语构成的。"
   ]
  },
  {
   "cell_type": "markdown",
   "id": "38e3937b",
   "metadata": {},
   "source": [
    "new_corpus 应该是一个你没有用来训练的测试集\n",
    "\n",
    "perplexity = lda_model.log_perplexity(new_corpus)\n",
    "\n",
    "print(f\"Perplexity: {perplexity}\")"
   ]
  },
  {
   "cell_type": "markdown",
   "id": "08de36aa",
   "metadata": {},
   "source": [
    "b) 主题一致性 (Topic Coherence) - 【更推荐的指标】\n",
    "\n",
    "    直观理解：\n",
    "\n",
    "        这个指标被设计出来，就是为了更好地模拟人类对主题质量的判断。它衡量的是一个主题内部的词语在语义上有多么“一致”或“相关”。\n",
    "\n",
    "        例如，一个主题如果是 ['猫', '狗', '宠物', '喂养']，它的“一致性”就很高。而一个主题如果是 ['猫', '汽车', '法律', '太空']，那它的一致性就很低，因为它看起来毫无逻辑。\n",
    "\n",
    "        所以，主题一致性是越高越好。\n",
    "\n",
    "    工作原理（简化版）：\n",
    "\n",
    "        它通过计算一个主题内排名靠前的那些词语（比如Top 10的词），在原始文档中共同出现的频率来打分。如果这些词经常在同一篇文档里一起出现，那么这个主题就被认为是“一致的”。\n",
    "\n"
   ]
  },
  {
   "cell_type": "markdown",
   "id": "6a26b5d2",
   "metadata": {},
   "source": [
    "#### 超参数调优：寻找最佳主题数 K\n",
    "\n",
    "在前面的例子中，我们都是凭感觉预设了num_topics（即K值）。但在真实项目中，找到“最优”的主题数是一个核心任务。\n",
    "\n",
    "最佳实践：结合主题一致性来寻找最优K值。\n",
    "\n",
    "    思路：\n",
    "\n",
    "        1. 设定一个K值的范围（例如，从2到20）。\n",
    "\n",
    "        2. 循环遍历这个范围，针对每一个K值都训练一个LDA模型。\n",
    "\n",
    "        3. 计算每个训练好的模型的主题一致性得分。\n",
    "\n",
    "        4. 将K值与对应的一致性得分画成折线图。\n",
    "\n",
    "        5. 得分最高的那个K值，通常就是我们寻找的最佳主题数。"
   ]
  },
  {
   "cell_type": "markdown",
   "id": "4654653f",
   "metadata": {},
   "source": [
    "### LDA的Python实现"
   ]
  },
  {
   "cell_type": "code",
   "execution_count": 37,
   "id": "53b3e92c",
   "metadata": {},
   "outputs": [],
   "source": [
    "import nltk\n",
    "from nltk.corpus import stopwords\n",
    "from nltk.corpus import wordnet"
   ]
  },
  {
   "cell_type": "code",
   "execution_count": 38,
   "id": "29c53ec4",
   "metadata": {},
   "outputs": [],
   "source": [
    "# 更长、更真实的英文示例文本\n",
    "documents = [\n",
    "    # 文档1: 机器学习\n",
    "    \"Machine learning is a subfield of artificial intelligence. At its core, it is the practice of using algorithms to parse data, learn from it, and then make a determination or prediction about something in the world. Rather than hand-coding software routines with a specific set of instructions to accomplish a particular task, the machine is 'trained' using large amounts of data and algorithms that give it the ability to learn how to perform the task. Models are trained over many iterations, and the performance is evaluated on a separate test dataset.\",\n",
    "    \n",
    "    # 文档2: 太空探索\n",
    "    \"Space exploration is the use of astronomy and space technology to explore outer space. The study of space is carried out mainly by astronomers with telescopes, and physical exploration of space is conducted both by unmanned robotic space probes and human spaceflight. The James Webb Space Telescope has recently provided stunning new images of distant galaxies and nebulae, offering insights into the early universe. Meanwhile, rovers on Mars continue to search for signs of past life and analyze the planet's geology.\",\n",
    "    \n",
    "    # 文档3: 气候变化\n",
    "    \"Climate change refers to long-term shifts in temperatures and weather patterns. These shifts may be natural, but since the 1800s, human activities have been the main driver of climate change, primarily due to the burning of fossil fuels like coal, oil and gas. This process produces greenhouse gas emissions that act like a blanket wrapped around the Earth, trapping the sun's heat and raising temperatures. Addressing climate change involves reducing emissions through a transition to renewable energy sources like solar and wind power, and improving energy efficiency.\",\n",
    "    \n",
    "    # 我们再增加几个混合主题的文档来增加挑战\n",
    "    # 文档4: 机器学习在气候模型中的应用\n",
    "    \"Advanced machine learning models are now being used to improve climate change predictions. By analyzing vast datasets from satellites and weather stations, these AI algorithms can identify complex patterns in the Earth's climate system that are difficult for traditional models to capture. This allows for more accurate forecasts of temperature shifts and extreme weather events.\",\n",
    "    \n",
    "    # 文档5: 太空技术与可再生能源\n",
    "    \"Technology originally developed for space exploration has found novel applications in the renewable energy sector. For instance, high-efficiency solar panels designed for satellites are inspiring improvements in terrestrial solar power generation. The study of planetary atmospheres also helps scientists model Earth's own climate dynamics with greater precision.\"\n",
    "]"
   ]
  },
  {
   "cell_type": "code",
   "execution_count": 39,
   "id": "9124a8ce",
   "metadata": {},
   "outputs": [
    {
     "name": "stdout",
     "output_type": "stream",
     "text": [
      "预处理后的文档示例 (第一篇):\n",
      "['machine', 'learning', 'subfield', 'artificial', 'intelligence', 'core', 'practice', 'using', 'algorithm', 'parse', 'data', 'learn', 'make', 'determination', 'prediction', 'something', 'world', 'rather', 'handcoding', 'software', 'routine', 'specific', 'set', 'instruction', 'accomplish', 'particular', 'task', 'machine', 'trained', 'using', 'large', 'amount', 'data', 'algorithm', 'give', 'ability', 'learn', 'perform', 'task', 'model', 'trained', 'many', 'iteration', 'performance', 'evaluated', 'separate', 'test', 'dataset']\n"
     ]
    }
   ],
   "source": [
    "import re\n",
    "from nltk.corpus import stopwords\n",
    "from nltk.stem import WordNetLemmatizer\n",
    "\n",
    "# 获取英文停用词列表\n",
    "stop_words = set(stopwords.words('english'))\n",
    "# 初始化词形还原器\n",
    "lemmatizer = WordNetLemmatizer()\n",
    "\n",
    "def preprocess_english_text(text):\n",
    "    # 1. 转为小写，并移除标点符号\n",
    "    text = re.sub(r'[^\\w\\s]', '', text.lower())\n",
    "    \n",
    "    # 2. 分词\n",
    "    words = text.split()\n",
    "    \n",
    "    # 3. 移除停用词并进行词形还原\n",
    "    processed_words = [lemmatizer.lemmatize(word) for word in words if word not in stop_words and len(word) > 2]\n",
    "    \n",
    "    return processed_words\n",
    "\n",
    "# 对所有文档进行预处理\n",
    "processed_docs = [preprocess_english_text(doc) for doc in documents]\n",
    "\n",
    "print(\"预处理后的文档示例 (第一篇):\")\n",
    "print(processed_docs[0])"
   ]
  },
  {
   "cell_type": "code",
   "execution_count": 40,
   "id": "cc33ae92",
   "metadata": {},
   "outputs": [],
   "source": [
    "from gensim import corpora, models\n",
    "\n",
    "# 3. 创建词典和语料库\n",
    "dictionary = corpora.Dictionary(processed_docs)\n",
    "# 过滤掉出现次数极少或极多的词（可选，但推荐）\n",
    "dictionary.filter_extremes(no_below=2, no_above=0.8)\n",
    "corpus = [dictionary.doc2bow(doc) for doc in processed_docs]\n",
    "\n",
    "\n",
    "# 4. 训练LDA模型\n",
    "# 因为我们准备了3个核心主题的数据，所以设置num_topics=3\n",
    "num_topics = 3\n",
    "\n",
    "lda_model = models.LdaModel(\n",
    "    corpus=corpus,\n",
    "    id2word=dictionary,\n",
    "    num_topics=num_topics,\n",
    "    passes=20,\n",
    "    random_state=100\n",
    ")"
   ]
  },
  {
   "cell_type": "code",
   "execution_count": 41,
   "id": "7d01d56e",
   "metadata": {},
   "outputs": [
    {
     "name": "stdout",
     "output_type": "stream",
     "text": [
      "\n",
      "LDA模型发现的主题:\n",
      "(0, '0.360*\"space\" + 0.141*\"exploration\" + 0.094*\"study\" + 0.094*\"technology\" + 0.058*\"human\" + 0.016*\"model\"')\n",
      "(1, '0.140*\"climate\" + 0.097*\"change\" + 0.075*\"energy\" + 0.074*\"solar\" + 0.074*\"temperature\" + 0.074*\"shift\"')\n",
      "(2, '0.155*\"algorithm\" + 0.155*\"machine\" + 0.134*\"model\" + 0.108*\"learning\" + 0.108*\"prediction\" + 0.061*\"weather\"')\n"
     ]
    }
   ],
   "source": [
    "print(\"\\nLDA模型发现的主题:\")\n",
    "topics = lda_model.print_topics(num_words=6)\n",
    "for topic in topics:\n",
    "    print(topic)"
   ]
  },
  {
   "cell_type": "code",
   "execution_count": 42,
   "id": "2b63a0c5",
   "metadata": {},
   "outputs": [
    {
     "name": "stdout",
     "output_type": "stream",
     "text": [
      "\n",
      "文档4 (机器学习与气候模型) 的主题分布:\n",
      "[(0, 0.019740025), (1, 0.571131), (2, 0.409129)]\n"
     ]
    }
   ],
   "source": [
    "# 文档4是关于机器学习在气候模型中的应用\n",
    "doc_to_check_bow = corpus[3] \n",
    "\n",
    "doc_lda_topics = lda_model.get_document_topics(doc_to_check_bow)\n",
    "\n",
    "print(f\"\\n文档4 (机器学习与气候模型) 的主题分布:\")\n",
    "print(doc_lda_topics)"
   ]
  },
  {
   "cell_type": "code",
   "execution_count": null,
   "id": "95e56d6e",
   "metadata": {},
   "outputs": [
    {
     "name": "stdout",
     "output_type": "stream",
     "text": [
      "Number of Topics = 2, Perplexity = 2714.1233\n",
      "Number of Topics = 4, Perplexity = 85049.5074\n",
      "Number of Topics = 6, Perplexity = 1166151.0108\n",
      "Number of Topics = 8, Perplexity = 5118844.5555\n",
      "Number of Topics = 10, Perplexity = 17276335.4317\n",
      "Number of Topics = 12, Perplexity = 48988540.5733\n",
      "Number of Topics = 14, Perplexity = 122360233.4659\n",
      "Number of Topics = 16, Perplexity = 276396327.7361\n",
      "Number of Topics = 18, Perplexity = 578399399.9333\n",
      "Number of Topics = 20, Perplexity = 1134929676.8954\n"
     ]
    },
    {
     "data": {
      "image/png": "[encoded data removed]",
      "text/plain": [
       "<Figure size 640x480 with 1 Axes>"
      ]
     },
     "metadata": {},
     "output_type": "display_data"
    }
   ],
   "source": [
    "from gensim.models import LdaModel\n",
    "from gensim.corpora import Dictionary\n",
    "import numpy as np\n",
    "\n",
    "# 1. 分割數據\n",
    "# 假設我們有1000篇文檔，用800篇訓練，200篇測試\n",
    "split_point = int(len(processed_docs) * 0.8)\n",
    "train_texts = processed_docs[:split_point]\n",
    "test_texts = processed_docs[split_point:]\n",
    "\n",
    "# 僅用訓練數據創建詞典和語料庫\n",
    "train_dictionary = Dictionary(train_texts)\n",
    "train_corpus = [train_dictionary.doc2bow(text) for text in train_texts]\n",
    "\n",
    "# 用相同的詞典轉換測試數據\n",
    "test_corpus = [train_dictionary.doc2bow(text) for text in test_texts]\n",
    "\n",
    "\n",
    "# 2. 循環訓練與評估\n",
    "perplexity_values = []\n",
    "model_list = []\n",
    "k_range = range(2, 21, 2) # 測試K從2到20，步長為2\n",
    "\n",
    "for num_topics in k_range:\n",
    "    # 僅在訓練集上訓練\n",
    "    lda_model = LdaModel(corpus=train_corpus,\n",
    "                         id2word=train_dictionary,\n",
    "                         num_topics=num_topics,\n",
    "                         passes=15,\n",
    "                         random_state=42)\n",
    "    model_list.append(lda_model)\n",
    "    \n",
    "    # 在測試集上計算困惑度\n",
    "    # log_perplexity返回值是log2(perplexity)，所以值越大（越接近0）越好\n",
    "    # Perplexity本身是 exp(-log_perplexity)，越小越好\n",
    "    log_perplexity = lda_model.log_perplexity(test_corpus)\n",
    "    perplexity = np.exp2(-log_perplexity)\n",
    "    perplexity_values.append(perplexity)\n",
    "    \n",
    "    print(f\"Number of Topics = {num_topics}, Perplexity = {perplexity:.4f}\")\n",
    "\n",
    "# 3. 繪圖找到最低點\n",
    "import matplotlib.pyplot as plt\n",
    "plt.plot(k_range, perplexity_values)\n",
    "plt.xlabel(\"Num Topics\")\n",
    "plt.ylabel(\"Perplexity\")\n",
    "plt.show()"
   ]
  },
  {
   "cell_type": "code",
   "execution_count": null,
   "id": "aa39ac3a",
   "metadata": {},
   "outputs": [],
   "source": []
  }
 ],
 "metadata": {
  "kernelspec": {
   "display_name": "env_q",
   "language": "python",
   "name": "python3"
  },
  "language_info": {
   "codemirror_mode": {
    "name": "ipython",
    "version": 3
   },
   "file_extension": ".py",
   "mimetype": "text/x-python",
   "name": "python",
   "nbconvert_exporter": "python",
   "pygments_lexer": "ipython3",
   "version": "3.10.18"
  }
 },
 "nbformat": 4,
 "nbformat_minor": 5
}
